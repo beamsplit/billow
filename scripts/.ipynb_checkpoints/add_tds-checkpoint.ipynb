{
 "cells": [
  {
   "cell_type": "code",
   "execution_count": 1,
   "metadata": {},
   "outputs": [
    {
     "ename": "ModuleNotFoundError",
     "evalue": "No module named 'bill'",
     "output_type": "error",
     "traceback": [
      "\u001b[0;31m---------------------------------------------------------------------------\u001b[0m",
      "\u001b[0;31mModuleNotFoundError\u001b[0m                       Traceback (most recent call last)",
      "\u001b[0;32m<ipython-input-1-9f103c3d31c7>\u001b[0m in \u001b[0;36m<module>\u001b[0;34m()\u001b[0m\n\u001b[1;32m      2\u001b[0m \u001b[0;34m\u001b[0m\u001b[0m\n\u001b[1;32m      3\u001b[0m \u001b[0;32mimport\u001b[0m \u001b[0mcsv\u001b[0m\u001b[0;34m\u001b[0m\u001b[0m\n\u001b[0;32m----> 4\u001b[0;31m \u001b[0;32mfrom\u001b[0m \u001b[0mbill\u001b[0m\u001b[0;34m.\u001b[0m\u001b[0mmodels\u001b[0m \u001b[0;32mimport\u001b[0m \u001b[0mBill\u001b[0m\u001b[0;34m,\u001b[0m \u001b[0mCategory\u001b[0m\u001b[0;34m,\u001b[0m \u001b[0mOrigin\u001b[0m\u001b[0;34m,\u001b[0m \u001b[0mSponsor\u001b[0m\u001b[0;34m,\u001b[0m \u001b[0mStage\u001b[0m\u001b[0;34m,\u001b[0m \u001b[0mDeputy\u001b[0m\u001b[0;34m,\u001b[0m \u001b[0mSenator\u001b[0m\u001b[0;34m\u001b[0m\u001b[0m\n\u001b[0m\u001b[1;32m      5\u001b[0m \u001b[0;34m\u001b[0m\u001b[0m\n\u001b[1;32m      6\u001b[0m \u001b[0;32mdef\u001b[0m \u001b[0mrun\u001b[0m\u001b[0;34m(\u001b[0m\u001b[0;34m)\u001b[0m\u001b[0;34m:\u001b[0m\u001b[0;34m\u001b[0m\u001b[0m\n",
      "\u001b[0;31mModuleNotFoundError\u001b[0m: No module named 'bill'"
     ]
    }
   ],
   "source": [
    "#scripts/add_tds.py\n",
    "\n",
    "import csv\n",
    "from bill.models import Bill, Category, Origin, Sponsor, Stage, Deputy, Senator\n",
    "\n",
    "def run():\n",
    "    #open all deputy & senator information from csv\n",
    "    with open('/Users/beamsplit/Documents/BILLOW/BillHub/BillHub/Scrapers/Outputs/td_list.csv','r',encoding='utf-8') as inp:\n",
    "        reader = csv.reader(inp)\n",
    "        for j,row in enumerate(reader):\n",
    "            if (j == 0):\n",
    "                pass\n",
    "            else:\n",
    "                td = Deputy(name = row[0], constituency = row[2], party = row[3], email = row[5], phone = row[6]) #set td model fields\n",
    "                td.save()\n",
    "    #open all deputy & senator information from csv\n",
    "    with open('/Users/beamsplit/Documents/BILLOW/BillHub/BillHub/Scrapers/Outputs/senator_list.csv','r',encoding='utf-8') as inp:\n",
    "        reader2 = csv.reader(inp)\n",
    "        for j,row in enumerate(reader2):\n",
    "            if (j == 0):\n",
    "                pass\n",
    "            else:\n",
    "                senator = Senator(name = row[0], panel = row[3], party = row[4], email = row[5], phone = row[6]) #set senator model fields\n",
    "                senator.save()"
   ]
  },
  {
   "cell_type": "code",
   "execution_count": null,
   "metadata": {},
   "outputs": [],
   "source": []
  }
 ],
 "metadata": {
  "kernelspec": {
   "display_name": "Python 3",
   "language": "python",
   "name": "python3"
  },
  "language_info": {
   "codemirror_mode": {
    "name": "ipython",
    "version": 3
   },
   "file_extension": ".py",
   "mimetype": "text/x-python",
   "name": "python",
   "nbconvert_exporter": "python",
   "pygments_lexer": "ipython3",
   "version": "3.6.5"
  }
 },
 "nbformat": 4,
 "nbformat_minor": 2
}
